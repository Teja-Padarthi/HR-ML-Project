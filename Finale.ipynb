{
 "cells": [
  {
   "cell_type": "code",
   "execution_count": 1,
   "id": "4e6ce63b",
   "metadata": {},
   "outputs": [
    {
     "ename": "ModuleNotFoundError",
     "evalue": "No module named 'cv2'",
     "output_type": "error",
     "traceback": [
      "\u001b[0;31m---------------------------------------------------------------------------\u001b[0m",
      "\u001b[0;31mModuleNotFoundError\u001b[0m                       Traceback (most recent call last)",
      "Input \u001b[0;32mIn [1]\u001b[0m, in \u001b[0;36m<cell line: 4>\u001b[0;34m()\u001b[0m\n\u001b[1;32m      2\u001b[0m \u001b[38;5;28;01mimport\u001b[39;00m \u001b[38;5;21;01mnumpy\u001b[39;00m \u001b[38;5;28;01mas\u001b[39;00m \u001b[38;5;21;01mnp\u001b[39;00m\n\u001b[1;32m      3\u001b[0m \u001b[38;5;28;01mimport\u001b[39;00m \u001b[38;5;21;01mseaborn\u001b[39;00m \u001b[38;5;28;01mas\u001b[39;00m \u001b[38;5;21;01msns\u001b[39;00m\n\u001b[0;32m----> 4\u001b[0m \u001b[38;5;28;01mimport\u001b[39;00m \u001b[38;5;21;01mcv2\u001b[39;00m\n\u001b[1;32m      5\u001b[0m \u001b[38;5;28;01mfrom\u001b[39;00m \u001b[38;5;21;01mstatsmodels\u001b[39;00m\u001b[38;5;21;01m.\u001b[39;00m\u001b[38;5;21;01mstats\u001b[39;00m\u001b[38;5;21;01m.\u001b[39;00m\u001b[38;5;21;01moutliers_influence\u001b[39;00m \u001b[38;5;28;01mimport\u001b[39;00m variance_inflation_factor\n\u001b[1;32m      6\u001b[0m \u001b[38;5;28;01mimport\u001b[39;00m \u001b[38;5;21;01mmatplotlib\u001b[39;00m\u001b[38;5;21;01m.\u001b[39;00m\u001b[38;5;21;01mpyplot\u001b[39;00m \u001b[38;5;28;01mas\u001b[39;00m \u001b[38;5;21;01mplt\u001b[39;00m\n",
      "\u001b[0;31mModuleNotFoundError\u001b[0m: No module named 'cv2'"
     ]
    }
   ],
   "source": [
    "import pandas as pd\n",
    "import numpy as np\n",
    "import seaborn as sns\n",
    "import cv2\n",
    "from statsmodels.stats.outliers_influence import variance_inflation_factor\n",
    "import matplotlib.pyplot as plt\n",
    "%matplotlib inline"
   ]
  },
  {
   "cell_type": "code",
   "execution_count": null,
   "id": "403140ea",
   "metadata": {},
   "outputs": [],
   "source": [
    "data = pd.read_csv('HR-Employee-Attrition.csv')"
   ]
  },
  {
   "cell_type": "code",
   "execution_count": null,
   "id": "7438e9c3",
   "metadata": {},
   "outputs": [],
   "source": [
    "data.head()"
   ]
  },
  {
   "cell_type": "code",
   "execution_count": null,
   "id": "807fc44f",
   "metadata": {},
   "outputs": [],
   "source": [
    "data.info()"
   ]
  },
  {
   "cell_type": "code",
   "execution_count": null,
   "id": "61b992d2",
   "metadata": {},
   "outputs": [],
   "source": [
    "pd.set_option('display.max_columns', 50)"
   ]
  },
  {
   "cell_type": "code",
   "execution_count": null,
   "id": "a4856dfa",
   "metadata": {},
   "outputs": [],
   "source": [
    "data_new = data.drop(['EmployeeNumber','Over18','EmployeeCount','StandardHours','DailyRate','HourlyRate','MonthlyRate'], axis=1 )  "
   ]
  },
  {
   "cell_type": "code",
   "execution_count": null,
   "id": "b5aabf56",
   "metadata": {},
   "outputs": [],
   "source": [
    "data_new.shape"
   ]
  },
  {
   "cell_type": "code",
   "execution_count": null,
   "id": "23b6da62",
   "metadata": {},
   "outputs": [],
   "source": [
    "data_new.head()"
   ]
  },
  {
   "cell_type": "markdown",
   "id": "8bc82862",
   "metadata": {},
   "source": [
    "### Summary Statistics"
   ]
  },
  {
   "cell_type": "code",
   "execution_count": null,
   "id": "53e21c18",
   "metadata": {},
   "outputs": [],
   "source": [
    "data_new.describe().round(2)"
   ]
  },
  {
   "cell_type": "code",
   "execution_count": null,
   "id": "090f0e0c",
   "metadata": {},
   "outputs": [],
   "source": [
    "data_new.isna().sum() #No Null Values in Dataset"
   ]
  },
  {
   "cell_type": "markdown",
   "id": "12c250e6",
   "metadata": {},
   "source": [
    "## Checking for Outliers"
   ]
  },
  {
   "cell_type": "code",
   "execution_count": null,
   "id": "1a0a6f42",
   "metadata": {},
   "outputs": [],
   "source": [
    "Q1 = data_new['MonthlyIncome'].quantile(0.25)\n",
    "Q3 = data_new['MonthlyIncome'].quantile(0.75)\n",
    "IQR = Q3-Q1\n",
    "upper_bound = Q3+(1.5*IQR)\n",
    "lower_bound = Q1-(1.5*IQR)\n",
    "values = [IQR,upper_bound,lower_bound ]\n",
    "outliers_monthlyincome = data_new['MonthlyIncome'][(data_new['MonthlyIncome'] <= lower_bound) | (data_new['MonthlyIncome'] >= upper_bound)]\n",
    "outliers_monthlyincome= list(outliers_monthlyincome)\n",
    "len(outliers_monthlyincome)"
   ]
  },
  {
   "cell_type": "code",
   "execution_count": null,
   "id": "38722ff2",
   "metadata": {},
   "outputs": [],
   "source": [
    "Q1 = data_new['NumCompaniesWorked'].quantile(0.25)\n",
    "Q3 = data_new['NumCompaniesWorked'].quantile(0.75)\n",
    "IQR = Q3-Q1\n",
    "upper_bound = Q3+(1.5*IQR)\n",
    "lower_bound = Q1-(1.5*IQR)\n",
    "values = [IQR,upper_bound,lower_bound ]\n",
    "outliers_numcompaniesworked = data_new['NumCompaniesWorked'][(data_new['NumCompaniesWorked'] <= lower_bound) | (data_new['NumCompaniesWorked'] >= upper_bound)]\n",
    "outliers_numcompaniesworked= list(outliers_numcompaniesworked)\n",
    "len(outliers_numcompaniesworked)"
   ]
  },
  {
   "cell_type": "code",
   "execution_count": null,
   "id": "fba470c0",
   "metadata": {},
   "outputs": [],
   "source": [
    "Q1 = data_new['TotalWorkingYears'].quantile(0.25)\n",
    "Q3 = data_new['TotalWorkingYears'].quantile(0.75)\n",
    "IQR = Q3-Q1\n",
    "upper_bound = Q3+(1.5*IQR)\n",
    "lower_bound = Q1-(1.5*IQR)\n",
    "values = [IQR,upper_bound,lower_bound ]\n",
    "outliers_totalworkingyears = data_new['TotalWorkingYears'][(data_new['TotalWorkingYears'] <= lower_bound) | (data_new['TotalWorkingYears'] >= upper_bound)]\n",
    "outliers_numcompaniesworked= list(outliers_totalworkingyears)\n",
    "len(outliers_totalworkingyears)"
   ]
  },
  {
   "cell_type": "code",
   "execution_count": null,
   "id": "234c65ed",
   "metadata": {},
   "outputs": [],
   "source": [
    "Q1 = data_new['YearsAtCompany'].quantile(0.25)\n",
    "Q3 = data_new['YearsAtCompany'].quantile(0.75)\n",
    "IQR = Q3-Q1\n",
    "upper_bound = Q3+(1.5*IQR)\n",
    "lower_bound = Q1-(1.5*IQR)\n",
    "values = [IQR,upper_bound,lower_bound ]\n",
    "outliers_yearsatcompany = data_new['YearsAtCompany'][(data_new['YearsAtCompany'] <= lower_bound) | (data_new['YearsAtCompany'] >= upper_bound)]\n",
    "outliers_numcompaniesworked= list(outliers_yearsatcompany)\n",
    "len(outliers_yearsatcompany)"
   ]
  },
  {
   "cell_type": "code",
   "execution_count": null,
   "id": "e7f882e1",
   "metadata": {},
   "outputs": [],
   "source": [
    "Q1 = data_new['YearsInCurrentRole'].quantile(0.25)\n",
    "Q3 = data_new['YearsInCurrentRole'].quantile(0.75)\n",
    "IQR = Q3-Q1\n",
    "upper_bound = Q3+(1.5*IQR)\n",
    "lower_bound = Q1-(1.5*IQR)\n",
    "values = [IQR,upper_bound,lower_bound ]\n",
    "outliers_yearsincurrentrole = data_new['YearsInCurrentRole'][(data_new['YearsInCurrentRole'] <= lower_bound) | (data_new['YearsInCurrentRole'] >= upper_bound)]\n",
    "outliers_numcompaniesworked= list(outliers_yearsincurrentrole)\n",
    "len(outliers_yearsincurrentrole)"
   ]
  },
  {
   "cell_type": "code",
   "execution_count": null,
   "id": "4aed89c1",
   "metadata": {},
   "outputs": [],
   "source": [
    "Q1 = data_new['YearsSinceLastPromotion'].quantile(0.25)\n",
    "Q3 = data_new['YearsSinceLastPromotion'].quantile(0.75)\n",
    "IQR = Q3-Q1\n",
    "upper_bound = Q3+(1.5*IQR)\n",
    "lower_bound = Q1-(1.5*IQR)\n",
    "values = [IQR,upper_bound,lower_bound ]\n",
    "outliers_yearssincelastpromotion = data_new['YearsSinceLastPromotion'][(data_new['YearsSinceLastPromotion'] <= lower_bound) | (data_new['YearsSinceLastPromotion'] >= upper_bound)]\n",
    "outliers_numcompaniesworked= list(outliers_yearssincelastpromotion)\n",
    "len(outliers_yearssincelastpromotion)"
   ]
  },
  {
   "cell_type": "code",
   "execution_count": null,
   "id": "81ca29be",
   "metadata": {},
   "outputs": [],
   "source": [
    "Q1 = data_new['YearsWithCurrManager'].quantile(0.25)\n",
    "Q3 = data_new['YearsWithCurrManager'].quantile(0.75)\n",
    "IQR = Q3-Q1\n",
    "upper_bound = Q3+(1.5*IQR)\n",
    "lower_bound = Q1-(1.5*IQR)\n",
    "values = [IQR,upper_bound,lower_bound ]\n",
    "outliers_yearswithcurrentmanager = data_new['YearsWithCurrManager'][(data_new['YearsWithCurrManager'] <= lower_bound) | (data_new['YearsWithCurrManager'] >= upper_bound)]\n",
    "outliers_numcompaniesworked= list(outliers_yearswithcurrentmanager)\n",
    "len(outliers_yearswithcurrentmanager)"
   ]
  },
  {
   "cell_type": "markdown",
   "id": "8e8254bd",
   "metadata": {},
   "source": [
    "### Even though we found the Outliers, We are assuming that the Dataset is based on facts and hence not removing any outliers."
   ]
  },
  {
   "cell_type": "markdown",
   "id": "57b837b1",
   "metadata": {},
   "source": [
    "## CORRELATION MATRIX"
   ]
  },
  {
   "cell_type": "code",
   "execution_count": null,
   "id": "564175f4",
   "metadata": {},
   "outputs": [],
   "source": [
    "pd.options.display.max_rows=1700"
   ]
  },
  {
   "cell_type": "code",
   "execution_count": null,
   "id": "5743aa63",
   "metadata": {},
   "outputs": [],
   "source": [
    "x= data_new[['Age','JobLevel','DistanceFromHome','MonthlyIncome','NumCompaniesWorked',\n",
    "            'PercentSalaryHike','StockOptionLevel','TotalWorkingYears',\n",
    "            'TrainingTimesLastYear','YearsAtCompany','YearsInCurrentRole','YearsSinceLastPromotion',\n",
    "            'YearsWithCurrManager']]  #Continuous Variables"
   ]
  },
  {
   "cell_type": "code",
   "execution_count": null,
   "id": "fbe3e700",
   "metadata": {},
   "outputs": [],
   "source": [
    "plt.figure(figsize=(30, 30))\n",
    "sns.heatmap(x.corr(),annot=True)"
   ]
  },
  {
   "cell_type": "code",
   "execution_count": null,
   "id": "7ddfbef6",
   "metadata": {},
   "outputs": [],
   "source": [
    "vif_data = pd.DataFrame()\n",
    "vif_data['Variable'] = x.columns\n",
    "vif_data['VIF'] = [variance_inflation_factor(x.values, i) for i in range(len(x.columns))]\n",
    "print(vif_data)"
   ]
  },
  {
   "cell_type": "code",
   "execution_count": null,
   "id": "43d839f5",
   "metadata": {},
   "outputs": [],
   "source": [
    "sns.set(font_scale=3)\n",
    "sns.set(rc = {'figure.figsize':(15,15)})"
   ]
  },
  {
   "cell_type": "code",
   "execution_count": null,
   "id": "3d7185af",
   "metadata": {},
   "outputs": [],
   "source": [
    "sns.lmplot(x='Age', y='MonthlyIncome', hue='JobLevel', data=data_new, fit_reg=False, legend=True,height=10)"
   ]
  },
  {
   "cell_type": "markdown",
   "id": "ae8d5c27",
   "metadata": {},
   "source": [
    "### Since Job Level and Monthly Income are highly correlated, We decided to remove Job Level for the analysis"
   ]
  },
  {
   "cell_type": "code",
   "execution_count": null,
   "id": "5959e108",
   "metadata": {},
   "outputs": [],
   "source": [
    "data_new = data_new.drop(['JobLevel'],axis=1)\n",
    "x= data_new[['Age','DistanceFromHome','MonthlyIncome','NumCompaniesWorked',\n",
    "            'PercentSalaryHike','StockOptionLevel','TotalWorkingYears',\n",
    "            'TrainingTimesLastYear','YearsAtCompany','YearsInCurrentRole','YearsSinceLastPromotion',\n",
    "            'YearsWithCurrManager']]  "
   ]
  },
  {
   "cell_type": "code",
   "execution_count": null,
   "id": "0a717e9b",
   "metadata": {},
   "outputs": [],
   "source": [
    "vif_data = pd.DataFrame()\n",
    "vif_data['Variable'] = x.columns\n",
    "vif_data['VIF'] = [variance_inflation_factor(x.values, i) for i in range(len(x.columns))]\n",
    "print(vif_data)"
   ]
  },
  {
   "cell_type": "code",
   "execution_count": null,
   "id": "14ef4a3e",
   "metadata": {},
   "outputs": [],
   "source": [
    "img = cv2.imread('D:\\ipba_project\\Age-TWY.jpg')\n",
    "im_rgb=cv2.cvtColor(img,cv2.COLOR_BGR2RGB)\n",
    "plt.imshow(im_rgb,img.resize(40,40))\n",
    "plt.grid(False)\n",
    "plt.axis('off')"
   ]
  },
  {
   "cell_type": "code",
   "execution_count": null,
   "id": "1580a82d",
   "metadata": {},
   "outputs": [],
   "source": [
    "data_new = data_new.drop(['Age'],axis=1)\n",
    "x= data_new[['DistanceFromHome','MonthlyIncome','NumCompaniesWorked',\n",
    "            'PercentSalaryHike','StockOptionLevel','TotalWorkingYears',\n",
    "            'TrainingTimesLastYear','YearsAtCompany','YearsInCurrentRole','YearsSinceLastPromotion',\n",
    "            'YearsWithCurrManager']] "
   ]
  },
  {
   "cell_type": "code",
   "execution_count": null,
   "id": "4f62afae",
   "metadata": {},
   "outputs": [],
   "source": [
    "vif_data = pd.DataFrame()\n",
    "vif_data['Variable'] = x.columns\n",
    "vif_data['VIF'] = [variance_inflation_factor(x.values, i) for i in range(len(x.columns))]\n",
    "print(vif_data)"
   ]
  },
  {
   "cell_type": "code",
   "execution_count": null,
   "id": "34cc6fcc",
   "metadata": {},
   "outputs": [],
   "source": [
    "data_new.head()"
   ]
  },
  {
   "cell_type": "code",
   "execution_count": null,
   "id": "cba7b73c",
   "metadata": {},
   "outputs": [],
   "source": [
    "data_new.info()"
   ]
  },
  {
   "cell_type": "markdown",
   "id": "b2ed9a95",
   "metadata": {},
   "source": [
    "## Correlation for Categorical Variables"
   ]
  },
  {
   "cell_type": "code",
   "execution_count": null,
   "id": "c7b692ef",
   "metadata": {},
   "outputs": [],
   "source": [
    "table1=pd.crosstab(data_new[\"EducationField\"],data_new[\"Education\"],margins=True)\n",
    "print(table1)\n",
    "# chi-squared test with similar proportions\n",
    "from scipy.stats import chi2_contingency\n",
    "from scipy.stats import chi2\n",
    "# contingency table\n",
    "stat, p, dof, expected = chi2_contingency(table1)\n",
    "print('dof=%d' % dof)\n",
    "print(expected)\n",
    "# interpret test-statistic\n",
    "prob = 0.95\n",
    "critical = chi2.ppf(prob, dof)\n",
    "print('probability=%.3f, critical=%.3f, stat=%.3f' % (prob, critical, stat))\n",
    "if abs(stat) >= critical:\n",
    "    print('Dependent (reject H0)')\n",
    "else:\n",
    "    print('Independent (fail to reject H0)')\n",
    "# interpret p-value\n",
    "alpha = 1.0 - prob\n",
    "print('significance=%.3f, p=%.3f' % (alpha, p))\n",
    "if p <= alpha:\n",
    "    print('Dependent (reject H0)')\n",
    "else:\n",
    "    print('Independent (fail to reject H0)')"
   ]
  },
  {
   "cell_type": "code",
   "execution_count": null,
   "id": "264b9ae0",
   "metadata": {},
   "outputs": [],
   "source": [
    "table2=pd.crosstab(data_new[\"JobSatisfaction\"],data_new[\"EnvironmentSatisfaction\"],margins=True)\n",
    "print(table2)\n",
    "# chi-squared test with similar proportions\n",
    "from scipy.stats import chi2_contingency\n",
    "from scipy.stats import chi2\n",
    "# contingency table\n",
    "stat, p, dof, expected = chi2_contingency(table2)\n",
    "print('dof=%d' % dof)\n",
    "print(expected)\n",
    "# interpret test-statistic\n",
    "prob = 0.95\n",
    "critical = chi2.ppf(prob, dof)\n",
    "print('probability=%.3f, critical=%.3f, stat=%.3f' % (prob, critical, stat))\n",
    "if abs(stat) >= critical:\n",
    "    print('Dependent (reject H0)')\n",
    "else:\n",
    "    print('Independent (fail to reject H0)')\n",
    "# interpret p-value\n",
    "alpha = 1.0 - prob\n",
    "print('significance=%.3f, p=%.3f' % (alpha, p))\n",
    "if p <= alpha:\n",
    "    print('Dependent (reject H0)')\n",
    "else:\n",
    "    print('Independent (fail to reject H0)')"
   ]
  },
  {
   "cell_type": "code",
   "execution_count": null,
   "id": "aedf03a8",
   "metadata": {},
   "outputs": [],
   "source": [
    "table3=pd.crosstab(data_new[\"JobSatisfaction\"],data_new[\"JobInvolvement\"],margins=True)\n",
    "print(table3)\n",
    "# chi-squared test with similar proportions\n",
    "from scipy.stats import chi2_contingency\n",
    "from scipy.stats import chi2\n",
    "# contingency table\n",
    "stat, p, dof, expected = chi2_contingency(table3)\n",
    "print('dof=%d' % dof)\n",
    "print(expected)\n",
    "# interpret test-statistic\n",
    "prob = 0.95\n",
    "critical = chi2.ppf(prob, dof)\n",
    "print('probability=%.3f, critical=%.3f, stat=%.3f' % (prob, critical, stat))\n",
    "if abs(stat) >= critical:\n",
    "    print('Dependent (reject H0)')\n",
    "else:\n",
    "    print('Independent (fail to reject H0)')\n",
    "# interpret p-value\n",
    "alpha = 1.0 - prob\n",
    "print('significance=%.3f, p=%.3f' % (alpha, p))\n",
    "if p <= alpha:\n",
    "    print('Dependent (reject H0)')\n",
    "else:\n",
    "    print('Independent (fail to reject H0)')"
   ]
  },
  {
   "cell_type": "code",
   "execution_count": null,
   "id": "0c94aec7",
   "metadata": {},
   "outputs": [],
   "source": [
    "table4=pd.crosstab(data_new[\"JobRole\"],data_new[\"JobSatisfaction\"],margins=True)\n",
    "print(table4)\n",
    "# chi-squared test with similar proportions\n",
    "from scipy.stats import chi2_contingency\n",
    "from scipy.stats import chi2\n",
    "# contingency table\n",
    "stat, p, dof, expected = chi2_contingency(table4)\n",
    "print('dof=%d' % dof)\n",
    "print(expected)\n",
    "# interpret test-statistic\n",
    "prob = 0.95\n",
    "critical = chi2.ppf(prob, dof)\n",
    "print('probability=%.3f, critical=%.3f, stat=%.3f' % (prob, critical, stat))\n",
    "if abs(stat) >= critical:\n",
    "    print('Dependent (reject H0)')\n",
    "else:\n",
    "    print('Independent (fail to reject H0)')\n",
    "# interpret p-value\n",
    "alpha = 1.0 - prob\n",
    "print('significance=%.3f, p=%.3f' % (alpha, p))\n",
    "if p <= alpha:\n",
    "    print('Dependent (reject H0)')\n",
    "else:\n",
    "    print('Independent (fail to reject H0)')"
   ]
  },
  {
   "cell_type": "code",
   "execution_count": null,
   "id": "59a092a2",
   "metadata": {},
   "outputs": [],
   "source": [
    "table5=pd.crosstab(data_new[\"Gender\"],data_new[\"PerformanceRating\"],margins=True)\n",
    "print(table5)\n",
    "# chi-squared test with similar proportions\n",
    "from scipy.stats import chi2_contingency\n",
    "from scipy.stats import chi2\n",
    "# contingency table\n",
    "stat, p, dof, expected = chi2_contingency(table5)\n",
    "print('dof=%d' % dof)\n",
    "print(expected)\n",
    "# interpret test-statistic\n",
    "prob = 0.95\n",
    "critical = chi2.ppf(prob, dof)\n",
    "print('probability=%.3f, critical=%.3f, stat=%.3f' % (prob, critical, stat))\n",
    "if abs(stat) >= critical:\n",
    "    print('Dependent (reject H0)')\n",
    "else:\n",
    "    print('Independent (fail to reject H0)')\n",
    "# interpret p-value\n",
    "alpha = 1.0 - prob\n",
    "print('significance=%.3f, p=%.3f' % (alpha, p))\n",
    "if p <= alpha:\n",
    "    print('Dependent (reject H0)')\n",
    "else:\n",
    "    print('Independent (fail to reject H0)')"
   ]
  },
  {
   "cell_type": "code",
   "execution_count": null,
   "id": "610db66e",
   "metadata": {},
   "outputs": [],
   "source": [
    "table6=pd.crosstab(data_new[\"EnvironmentSatisfaction\"],data_new[\"RelationshipSatisfaction\"],margins=True)\n",
    "print(table6)\n",
    "# chi-squared test with similar proportions\n",
    "from scipy.stats import chi2_contingency\n",
    "from scipy.stats import chi2\n",
    "# contingency table\n",
    "stat, p, dof, expected = chi2_contingency(table6)\n",
    "print('dof=%d' % dof)\n",
    "print(expected)\n",
    "# interpret test-statistic\n",
    "prob = 0.95\n",
    "critical = chi2.ppf(prob, dof)\n",
    "print('probability=%.3f, critical=%.3f, stat=%.3f' % (prob, critical, stat))\n",
    "if abs(stat) >= critical:\n",
    "    print('Dependent (reject H0)')\n",
    "else:\n",
    "    print('Independent (fail to reject H0)')\n",
    "# interpret p-value\n",
    "alpha = 1.0 - prob\n",
    "print('significance=%.3f, p=%.3f' % (alpha, p))\n",
    "if p <= alpha:\n",
    "    print('Dependent (reject H0)')\n",
    "else:\n",
    "    print('Independent (fail to reject H0)')"
   ]
  },
  {
   "cell_type": "code",
   "execution_count": null,
   "id": "fcc51eb2",
   "metadata": {},
   "outputs": [],
   "source": [
    "table7=pd.crosstab(data_new[\"Gender\"],data_new[\"WorkLifeBalance\"],margins=True)\n",
    "print(table7)\n",
    "# chi-squared test with similar proportions\n",
    "from scipy.stats import chi2_contingency\n",
    "from scipy.stats import chi2\n",
    "# contingency table\n",
    "stat, p, dof, expected = chi2_contingency(table7)\n",
    "print('dof=%d' % dof)\n",
    "print(expected)\n",
    "# interpret test-statistic\n",
    "prob = 0.95\n",
    "critical = chi2.ppf(prob, dof)\n",
    "print('probability=%.3f, critical=%.3f, stat=%.3f' % (prob, critical, stat))\n",
    "if abs(stat) >= critical:\n",
    "    print('Dependent (reject H0)')\n",
    "else:\n",
    "    print('Independent (fail to reject H0)')\n",
    "# interpret p-value\n",
    "alpha = 1.0 - prob\n",
    "print('significance=%.3f, p=%.3f' % (alpha, p))\n",
    "if p <= alpha:\n",
    "    print('Dependent (reject H0)')\n",
    "else:\n",
    "    print('Independent (fail to reject H0)')"
   ]
  },
  {
   "cell_type": "code",
   "execution_count": null,
   "id": "879db699",
   "metadata": {},
   "outputs": [],
   "source": [
    "table8=pd.crosstab(data_new[\"MaritalStatus\"],data_new[\"BusinessTravel\"],margins=True)\n",
    "print(table8)\n",
    "# chi-squared test with similar proportions\n",
    "from scipy.stats import chi2_contingency\n",
    "from scipy.stats import chi2\n",
    "# contingency table\n",
    "stat, p, dof, expected = chi2_contingency(table8)\n",
    "print('dof=%d' % dof)\n",
    "print(expected)\n",
    "# interpret test-statistic\n",
    "prob = 0.95\n",
    "critical = chi2.ppf(prob, dof)\n",
    "print('probability=%.3f, critical=%.3f, stat=%.3f' % (prob, critical, stat))\n",
    "if abs(stat) >= critical:\n",
    "    print('Dependent (reject H0)')\n",
    "else:\n",
    "    print('Independent (fail to reject H0)')\n",
    "# interpret p-value\n",
    "alpha = 1.0 - prob\n",
    "print('significance=%.3f, p=%.3f' % (alpha, p))\n",
    "if p <= alpha:\n",
    "    print('Dependent (reject H0)')\n",
    "else:\n",
    "    print('Independent (fail to reject H0)')"
   ]
  },
  {
   "cell_type": "code",
   "execution_count": null,
   "id": "89cc81ea",
   "metadata": {},
   "outputs": [],
   "source": [
    "table9=pd.crosstab(data_new[\"JobSatisfaction\"],data_new[\"EducationField\"],margins=True)\n",
    "print(table9)\n",
    "# chi-squared test with similar proportions\n",
    "from scipy.stats import chi2_contingency\n",
    "from scipy.stats import chi2\n",
    "# contingency table\n",
    "stat, p, dof, expected = chi2_contingency(table9)\n",
    "print('dof=%d' % dof)\n",
    "print(expected)\n",
    "# interpret test-statistic\n",
    "prob = 0.95\n",
    "critical = chi2.ppf(prob, dof)\n",
    "print('probability=%.3f, critical=%.3f, stat=%.3f' % (prob, critical, stat))\n",
    "if abs(stat) >= critical:\n",
    "    print('Dependent (reject H0)')\n",
    "else:\n",
    "    print('Independent (fail to reject H0)')\n",
    "# interpret p-value\n",
    "alpha = 1.0 - prob\n",
    "print('significance=%.3f, p=%.3f' % (alpha, p))\n",
    "if p <= alpha:\n",
    "    print('Dependent (reject H0)')\n",
    "else:\n",
    "    print('Independent (fail to reject H0)')"
   ]
  },
  {
   "cell_type": "code",
   "execution_count": null,
   "id": "a59ac6a4",
   "metadata": {},
   "outputs": [],
   "source": [
    "table10=pd.crosstab(data_new[\"BusinessTravel\"],data_new[\"Gender\"],margins=True)\n",
    "print(table10)\n",
    "# chi-squared test with similar proportions\n",
    "from scipy.stats import chi2_contingency\n",
    "from scipy.stats import chi2\n",
    "# contingency table\n",
    "stat, p, dof, expected = chi2_contingency(table10)\n",
    "print('dof=%d' % dof)\n",
    "print(expected)\n",
    "# interpret test-statistic\n",
    "prob = 0.95\n",
    "critical = chi2.ppf(prob, dof)\n",
    "print('probability=%.3f, critical=%.3f, stat=%.3f' % (prob, critical, stat))\n",
    "if abs(stat) >= critical:\n",
    "    print('Dependent (reject H0)')\n",
    "else:\n",
    "    print('Independent (fail to reject H0)')\n",
    "# interpret p-value\n",
    "alpha = 1.0 - prob\n",
    "print('significance=%.3f, p=%.3f' % (alpha, p))\n",
    "if p <= alpha:\n",
    "    print('Dependent (reject H0)')\n",
    "else:\n",
    "    print('Independent (fail to reject H0)')"
   ]
  },
  {
   "cell_type": "code",
   "execution_count": null,
   "id": "37cdc36e",
   "metadata": {},
   "outputs": [],
   "source": [
    "table11=pd.crosstab(data_new[\"JobInvolvement\"],data_new[\"JobRole\"],margins=True)\n",
    "print(table11)\n",
    "# chi-squared test with similar proportions\n",
    "from scipy.stats import chi2_contingency\n",
    "from scipy.stats import chi2\n",
    "# contingency table\n",
    "stat, p, dof, expected = chi2_contingency(table11)\n",
    "print('dof=%d' % dof)\n",
    "print(expected)\n",
    "# interpret test-statistic\n",
    "prob = 0.95\n",
    "critical = chi2.ppf(prob, dof)\n",
    "print('probability=%.3f, critical=%.3f, stat=%.3f' % (prob, critical, stat))\n",
    "if abs(stat) >= critical:\n",
    "    print('Dependent (reject H0)')\n",
    "else:\n",
    "    print('Independent (fail to reject H0)')\n",
    "# interpret p-value\n",
    "alpha = 1.0 - prob\n",
    "print('significance=%.3f, p=%.3f' % (alpha, p))\n",
    "if p <= alpha:\n",
    "    print('Dependent (reject H0)')\n",
    "else:\n",
    "    print('Independent (fail to reject H0)')"
   ]
  },
  {
   "cell_type": "code",
   "execution_count": null,
   "id": "c196f463",
   "metadata": {},
   "outputs": [],
   "source": [
    "table12=pd.crosstab(data_new[\"PerformanceRating\"],data_new[\"EnvironmentSatisfaction\"],margins=True)\n",
    "print(table12)\n",
    "# chi-squared test with similar proportions\n",
    "from scipy.stats import chi2_contingency\n",
    "from scipy.stats import chi2\n",
    "# contingency table\n",
    "stat, p, dof, expected = chi2_contingency(table12)\n",
    "print('dof=%d' % dof)\n",
    "print(expected)\n",
    "# interpret test-statistic\n",
    "prob = 0.95\n",
    "critical = chi2.ppf(prob, dof)\n",
    "print('probability=%.3f, critical=%.3f, stat=%.3f' % (prob, critical, stat))\n",
    "if abs(stat) >= critical:\n",
    "    print('Dependent (reject H0)')\n",
    "else:\n",
    "    print('Independent (fail to reject H0)')\n",
    "# interpret p-value\n",
    "alpha = 1.0 - prob\n",
    "print('significance=%.3f, p=%.3f' % (alpha, p))\n",
    "if p <= alpha:\n",
    "    print('Dependent (reject H0)')\n",
    "else:\n",
    "    print('Independent (fail to reject H0)')"
   ]
  },
  {
   "cell_type": "code",
   "execution_count": null,
   "id": "c244bcf2",
   "metadata": {},
   "outputs": [],
   "source": [
    "table13=pd.crosstab(data_new[\"Gender\"],data_new[\"BusinessTravel\"],margins=True)\n",
    "print(table13)\n",
    "# chi-squared test with similar proportions\n",
    "from scipy.stats import chi2_contingency\n",
    "from scipy.stats import chi2\n",
    "# contingency table\n",
    "stat, p, dof, expected = chi2_contingency(table13)\n",
    "print('dof=%d' % dof)\n",
    "print(expected)\n",
    "# interpret test-statistic\n",
    "prob = 0.95\n",
    "critical = chi2.ppf(prob, dof)\n",
    "print('probability=%.3f, critical=%.3f, stat=%.3f' % (prob, critical, stat))\n",
    "if abs(stat) >= critical:\n",
    "    print('Dependent (reject H0)')\n",
    "else:\n",
    "    print('Independent (fail to reject H0)')\n",
    "# interpret p-value\n",
    "alpha = 1.0 - prob\n",
    "print('significance=%.3f, p=%.3f' % (alpha, p))\n",
    "if p <= alpha:\n",
    "    print('Dependent (reject H0)')\n",
    "else:\n",
    "    print('Independent (fail to reject H0)')"
   ]
  },
  {
   "cell_type": "markdown",
   "id": "c8fad4bb",
   "metadata": {},
   "source": [
    "## As all the categorical variables are independent of each other, we have used all variables"
   ]
  },
  {
   "cell_type": "code",
   "execution_count": null,
   "id": "af30c62f",
   "metadata": {},
   "outputs": [],
   "source": [
    "object_cols = [col for col in data_new.columns if data_new[col].dtype =='object']"
   ]
  },
  {
   "cell_type": "code",
   "execution_count": null,
   "id": "1ab847ff",
   "metadata": {},
   "outputs": [],
   "source": [
    "object_cols"
   ]
  },
  {
   "cell_type": "code",
   "execution_count": null,
   "id": "579e6ecb",
   "metadata": {},
   "outputs": [],
   "source": [
    "object_nunique = list(map(lambda col: data_new[col].nunique(), object_cols))\n",
    "object_nunique"
   ]
  },
  {
   "cell_type": "code",
   "execution_count": null,
   "id": "9f00ffee",
   "metadata": {},
   "outputs": [],
   "source": [
    "data_new['Attrition'].unique()"
   ]
  },
  {
   "cell_type": "code",
   "execution_count": null,
   "id": "6aebd18e",
   "metadata": {},
   "outputs": [],
   "source": [
    "data_new['BusinessTravel'].unique()"
   ]
  },
  {
   "cell_type": "code",
   "execution_count": null,
   "id": "139c7d0f",
   "metadata": {},
   "outputs": [],
   "source": [
    "data_new['Department'].unique()"
   ]
  },
  {
   "cell_type": "code",
   "execution_count": null,
   "id": "4259e56e",
   "metadata": {},
   "outputs": [],
   "source": [
    "data_new['EducationField'].unique()"
   ]
  },
  {
   "cell_type": "code",
   "execution_count": null,
   "id": "3e35dfb4",
   "metadata": {},
   "outputs": [],
   "source": [
    "data_new['JobRole'].unique()"
   ]
  },
  {
   "cell_type": "code",
   "execution_count": null,
   "id": "c70acd4c",
   "metadata": {},
   "outputs": [],
   "source": [
    "data_new['MaritalStatus'].unique()"
   ]
  },
  {
   "cell_type": "code",
   "execution_count": null,
   "id": "b031bcf6",
   "metadata": {},
   "outputs": [],
   "source": [
    "data_new= data_new.drop('Attrition', axis=1)\n",
    "data_new"
   ]
  },
  {
   "cell_type": "code",
   "execution_count": null,
   "id": "3745e4e9",
   "metadata": {},
   "outputs": [],
   "source": [
    "data_new_dummies = pd.get_dummies(data_new, drop_first=True)\n",
    "data_new_dummies.head()"
   ]
  },
  {
   "cell_type": "code",
   "execution_count": null,
   "id": "c0012f75",
   "metadata": {},
   "outputs": [],
   "source": [
    "data_new_dummies.info()"
   ]
  },
  {
   "cell_type": "markdown",
   "id": "55a2431f",
   "metadata": {},
   "source": [
    "## Scaling the data"
   ]
  },
  {
   "cell_type": "code",
   "execution_count": null,
   "id": "a302e49a",
   "metadata": {},
   "outputs": [],
   "source": [
    "from sklearn.preprocessing import StandardScaler"
   ]
  },
  {
   "cell_type": "code",
   "execution_count": null,
   "id": "f64c8185",
   "metadata": {},
   "outputs": [],
   "source": [
    "scaler= StandardScaler()\n",
    "data_scaled = pd.DataFrame(scaler.fit_transform(data_new_dummies[['DistanceFromHome','Education','EnvironmentSatisfaction','JobInvolvement','JobSatisfaction','MonthlyIncome','NumCompaniesWorked','PercentSalaryHike','PerformanceRating','RelationshipSatisfaction','StockOptionLevel','TotalWorkingYears','TrainingTimesLastYear','WorkLifeBalance','YearsAtCompany','YearsInCurrentRole','YearsSinceLastPromotion','YearsWithCurrManager']]))    ##This means that you're transforming your data so that\n",
    "                                                                      ## it fits within a specific scale, like 0-100 or 0-1."
   ]
  },
  {
   "cell_type": "code",
   "execution_count": null,
   "id": "e9886eed",
   "metadata": {},
   "outputs": [],
   "source": [
    "data_scaled.head()"
   ]
  },
  {
   "cell_type": "code",
   "execution_count": null,
   "id": "a1f929b7",
   "metadata": {},
   "outputs": [],
   "source": [
    "data_scaled.columns = ['DistanceFromHome','Education','EnvironmentSatisfaction','JobInvolvement','JobSatisfaction','MonthlyIncome','NumCompaniesWorked','PercentSalaryHike','PerformanceRating','RelationshipSatisfaction','StockOptionLevel','TotalWorkingYears','TrainingTimesLastYear','WorkLifeBalance','YearsAtCompany','YearsInCurrentRole','YearsSinceLastPromotion','YearsWithCurrManager']\n",
    "data_scaled[['BusinessTravel_Travel_Frequently','BusinessTravel_Travel_Rarely','Department_Research & Development','Department_Sales','EducationField_Life Sciences','EducationField_Marketing','EducationField_Medical','EducationField_Other','EducationField_Technical Degree','Gender_Male','JobRole_Human Resources','JobRole_Laboratory Technician','JobRole_Manager','JobRole_Manufacturing Director','JobRole_Research Director','JobRole_Research Scientist','JobRole_Sales Executive','JobRole_Sales Representative','MaritalStatus_Married','MaritalStatus_Single','OverTime_Yes']] = data_new_dummies[['BusinessTravel_Travel_Frequently','BusinessTravel_Travel_Rarely','Department_Research & Development','Department_Sales','EducationField_Life Sciences','EducationField_Marketing','EducationField_Medical','EducationField_Other','EducationField_Technical Degree','Gender_Male','JobRole_Human Resources','JobRole_Laboratory Technician','JobRole_Manager','JobRole_Manufacturing Director','JobRole_Research Director','JobRole_Research Scientist','JobRole_Sales Executive','JobRole_Sales Representative','MaritalStatus_Married','MaritalStatus_Single','OverTime_Yes']]\n",
    "data_scaled.head()"
   ]
  },
  {
   "cell_type": "code",
   "execution_count": null,
   "id": "09f60709",
   "metadata": {},
   "outputs": [],
   "source": [
    "data['Attrition'] = data['Attrition'].replace('Yes',1)\n",
    "data['Attrition'] = data['Attrition'].replace('No',0)"
   ]
  },
  {
   "cell_type": "code",
   "execution_count": null,
   "id": "88b75f51",
   "metadata": {},
   "outputs": [],
   "source": [
    "data['Attrition'].value_counts() #Fit is 84-16 Ratio."
   ]
  },
  {
   "cell_type": "code",
   "execution_count": null,
   "id": "478a137a",
   "metadata": {},
   "outputs": [],
   "source": [
    "data_scaled['Attrition'] = data['Attrition']\n",
    "data_scaled"
   ]
  },
  {
   "cell_type": "markdown",
   "id": "18780e2d",
   "metadata": {},
   "source": [
    "# EDA Analysis"
   ]
  },
  {
   "cell_type": "code",
   "execution_count": null,
   "id": "0b52d8d8",
   "metadata": {},
   "outputs": [],
   "source": [
    "#How income is different for Male and Female?\n",
    "#Female % in Top level roles\n",
    "# Age influence on Income\n",
    "# Does higher education mean higher job role in company?\n",
    "#Gender and Work life balance, hue with Marital Status\n",
    "#Distance from home has an effect on Job Satisfaction?\n",
    "# Does more numbers of experience mean business travel is frequent?\n",
    "# Are there specific Job roles that has a lot of travelling involved?\n",
    "# The longer the employee stays in the company, his Hike increases?\n",
    "# Do Females prefer companies closer to home?"
   ]
  },
  {
   "cell_type": "markdown",
   "id": "91a0e6a2",
   "metadata": {},
   "source": [
    "## How income is different for Male and Female?"
   ]
  },
  {
   "cell_type": "code",
   "execution_count": null,
   "id": "4621eb88",
   "metadata": {
    "scrolled": true
   },
   "outputs": [],
   "source": [
    "img1 = cv2.imread('D:\\ipba_project\\Gender-Income.jpg')\n",
    "im_rgb=cv2.cvtColor(img1,cv2.COLOR_BGR2RGB)\n",
    "plt.imshow(im_rgb,img1.resize(40,40))\n",
    "plt.grid(False)\n",
    "plt.axis('off')\n",
    "#Both Genders are equally paid"
   ]
  },
  {
   "cell_type": "markdown",
   "id": "0cd837c7",
   "metadata": {},
   "source": [
    "##  Female % in Top level roles\n"
   ]
  },
  {
   "cell_type": "code",
   "execution_count": null,
   "id": "1d7c8d36",
   "metadata": {
    "scrolled": true
   },
   "outputs": [],
   "source": [
    "img3 = cv2.imread('D:\\ipba_project\\Female-Top.jpg')\n",
    "im_rgb=cv2.cvtColor(img3,cv2.COLOR_BGR2RGB)\n",
    "plt.imshow(im_rgb,img3.resize(40,40))\n",
    "plt.grid(False)\n",
    "plt.axis('off')\n",
    "# % of Females are lower in L5 when compared to Males but they share equal % in L4 Roles. "
   ]
  },
  {
   "cell_type": "markdown",
   "id": "de41e34d",
   "metadata": {},
   "source": [
    "# Does higher education mean higher job role in company?"
   ]
  },
  {
   "cell_type": "code",
   "execution_count": null,
   "id": "45be2f8b",
   "metadata": {},
   "outputs": [],
   "source": [
    "img2 = cv2.imread('D:\\ipba_project\\HigherEdu1.jpg')\n",
    "im_rgb=cv2.cvtColor(img2,cv2.COLOR_BGR2RGB)\n",
    "plt.imshow(im_rgb,img2.resize(40,40))\n",
    "plt.grid(False)\n",
    "plt.axis('off')\n",
    "#Majority of the employees have Bachelors followed by Masters. An interesting thing to note out is that 10% of L5 Leaders are Below College level."
   ]
  },
  {
   "cell_type": "markdown",
   "id": "03bc2b6a",
   "metadata": {},
   "source": [
    "# Gender and Work life balance, hue with Marital Status"
   ]
  },
  {
   "cell_type": "code",
   "execution_count": null,
   "id": "6ba4e33c",
   "metadata": {},
   "outputs": [],
   "source": [
    "img4 = cv2.imread('D:\\ipba_project\\Gender-Marital.jpg')\n",
    "im_rgb=cv2.cvtColor(img4,cv2.COLOR_BGR2RGB)\n",
    "plt.imshow(im_rgb,img4.resize(50,50))\n",
    "plt.grid(False)\n",
    "plt.axis('off')"
   ]
  },
  {
   "cell_type": "markdown",
   "id": "36f801ad",
   "metadata": {},
   "source": [
    "# Distance from home has an effect on Job Satisfaction"
   ]
  },
  {
   "cell_type": "code",
   "execution_count": null,
   "id": "bbe8a6da",
   "metadata": {},
   "outputs": [],
   "source": [
    "img5 = cv2.imread('D:\\ipba_project\\Distance1.jpg')\n",
    "im_rgb=cv2.cvtColor(img5,cv2.COLOR_BGR2RGB)\n",
    "plt.imshow(im_rgb,img5.resize(50,50))\n",
    "plt.grid(False)\n",
    "plt.axis('off')"
   ]
  },
  {
   "cell_type": "markdown",
   "id": "fbf91d17",
   "metadata": {},
   "source": [
    "# The longer the employee stays in the company, his Hike increases?"
   ]
  },
  {
   "cell_type": "code",
   "execution_count": null,
   "id": "fef1ff8f",
   "metadata": {},
   "outputs": [],
   "source": [
    "img6 = cv2.imread('D:\\ipba_project\\hike.jpg')\n",
    "im_rgb=cv2.cvtColor(img6,cv2.COLOR_BGR2RGB)\n",
    "plt.imshow(im_rgb,img6.resize(50,50))\n",
    "plt.grid(False)\n",
    "plt.axis('off')"
   ]
  },
  {
   "cell_type": "code",
   "execution_count": null,
   "id": "9c969925",
   "metadata": {},
   "outputs": [],
   "source": [
    "img7 = cv2.imread('D:\\ipba_project\\hike.jpg')\n",
    "plt.imshow(im_rgb,img6.resize(50,50))\n",
    "plt.grid(False)\n",
    "plt.axis('off')"
   ]
  },
  {
   "cell_type": "markdown",
   "id": "78df6047",
   "metadata": {},
   "source": [
    "## Smote"
   ]
  },
  {
   "cell_type": "code",
   "execution_count": null,
   "id": "4e084d86",
   "metadata": {},
   "outputs": [],
   "source": [
    "from imblearn.over_sampling import SMOTE\n",
    "cols = list(data_scaled.columns)\n",
    "cols.remove(\"Attrition\")\n",
    "sampled,target = SMOTE().fit_resample(data_scaled[cols],data_scaled[\"Attrition\"])"
   ]
  },
  {
   "cell_type": "markdown",
   "id": "29dc7a15",
   "metadata": {},
   "source": [
    "## Regression"
   ]
  },
  {
   "cell_type": "code",
   "execution_count": null,
   "id": "f680755b",
   "metadata": {},
   "outputs": [],
   "source": [
    "from sklearn.linear_model import LogisticRegression\n",
    "from sklearn.model_selection import train_test_split\n",
    "from sklearn import preprocessing\n",
    "from sklearn.metrics import mean_absolute_error"
   ]
  },
  {
   "cell_type": "code",
   "execution_count": null,
   "id": "5e630813",
   "metadata": {},
   "outputs": [],
   "source": [
    "X = sampled\n",
    "y = target\n",
    "X_train, X_test, y_train, y_test = train_test_split(X, y, test_size=0.3, random_state=0)\n",
    "#Train - Test Split 70-30 Ratio"
   ]
  },
  {
   "cell_type": "code",
   "execution_count": null,
   "id": "f2e37c95",
   "metadata": {},
   "outputs": [],
   "source": [
    "logreg = LogisticRegression()"
   ]
  },
  {
   "cell_type": "code",
   "execution_count": null,
   "id": "8bc1e590",
   "metadata": {},
   "outputs": [],
   "source": [
    "logreg.fit(X_train, y_train)"
   ]
  },
  {
   "cell_type": "code",
   "execution_count": null,
   "id": "bcc15322",
   "metadata": {},
   "outputs": [],
   "source": [
    "predictions = logreg.predict(X_test)\n",
    "print(mean_absolute_error(y_test, predictions))"
   ]
  },
  {
   "cell_type": "code",
   "execution_count": null,
   "id": "22478dd6",
   "metadata": {},
   "outputs": [],
   "source": [
    "import sklearn.metrics as metrics"
   ]
  },
  {
   "cell_type": "code",
   "execution_count": null,
   "id": "deef5a32",
   "metadata": {},
   "outputs": [],
   "source": [
    "from sklearn.metrics import confusion_matrix\n",
    "confusion_matrix = confusion_matrix(y_test, predictions)\n",
    "print(confusion_matrix)"
   ]
  },
  {
   "cell_type": "code",
   "execution_count": null,
   "id": "bb2bfbaf",
   "metadata": {},
   "outputs": [],
   "source": [
    "y_train_pred = logreg.predict(X_train)\n",
    "print(\"Training accuracy(in %):\", metrics.accuracy_score(y_train, y_train_pred)*100)"
   ]
  },
  {
   "cell_type": "code",
   "execution_count": null,
   "id": "9e7978a3",
   "metadata": {},
   "outputs": [],
   "source": [
    "y_pred = logreg.predict(X_test)\n",
    "accuracy = metrics.accuracy_score(y_pred,y_test)\n",
    "print('Testing Accuracy(in %):',accuracy*100)"
   ]
  },
  {
   "cell_type": "code",
   "execution_count": null,
   "id": "1c040abb",
   "metadata": {},
   "outputs": [],
   "source": [
    "probs = logreg.predict_proba(X_test)\n",
    "probs"
   ]
  },
  {
   "cell_type": "code",
   "execution_count": null,
   "id": "672372d6",
   "metadata": {},
   "outputs": [],
   "source": [
    "prob_positive = probs[:,1]\n",
    "fpr, tpr, threshold = metrics.roc_curve(y_test, prob_positive)\n",
    "roc_auc = metrics.auc(fpr, tpr)\n",
    "print('Area under the curve:',roc_auc)"
   ]
  },
  {
   "cell_type": "code",
   "execution_count": null,
   "id": "d8ae8a55",
   "metadata": {},
   "outputs": [],
   "source": [
    "plt.title('Receiver Operating Characteristic')\n",
    "plt.plot(fpr, tpr, 'orange', label = 'AUC = %0.2f' % roc_auc)\n",
    "plt.legend(loc = 'lower right')\n",
    "plt.plot([0, 1], [0, 1], color='darkblue', linestyle='--')\n",
    "plt.ylabel('True Positive Rate')\n",
    "plt.xlabel('False Positive Rate')\n",
    "plt.show()"
   ]
  },
  {
   "cell_type": "code",
   "execution_count": null,
   "id": "941ec1b7",
   "metadata": {},
   "outputs": [],
   "source": [
    "import statsmodels.api as sm\n",
    "logit_model=sm.Logit(y,X)\n",
    "result=logit_model.fit()\n",
    "print(result.summary2())"
   ]
  },
  {
   "cell_type": "code",
   "execution_count": null,
   "id": "efb10b96",
   "metadata": {},
   "outputs": [],
   "source": [
    "from sklearn import metrics\n",
    "print(metrics.classification_report(y_test,y_pred))"
   ]
  },
  {
   "cell_type": "markdown",
   "id": "01248577",
   "metadata": {},
   "source": [
    "## Forward Selection"
   ]
  },
  {
   "cell_type": "code",
   "execution_count": null,
   "id": "2f097c25",
   "metadata": {},
   "outputs": [],
   "source": [
    "from mlxtend.feature_selection import SequentialFeatureSelector as SFS"
   ]
  },
  {
   "cell_type": "code",
   "execution_count": null,
   "id": "f03d9ca8",
   "metadata": {},
   "outputs": [],
   "source": [
    "sfs = SFS(logreg,\n",
    "          k_features=(1,39),\n",
    "          forward=True,\n",
    "          floating=False,\n",
    "          scoring = 'r2',\n",
    "          cv = 0)\n",
    "sfs.fit(X_train, y_train)\n",
    "sfs.k_feature_names_"
   ]
  },
  {
   "cell_type": "code",
   "execution_count": null,
   "id": "023e7283",
   "metadata": {},
   "outputs": [],
   "source": [
    "from mlxtend.plotting import plot_sequential_feature_selection as plot_sfs\n",
    "import matplotlib.pyplot as plt\n",
    "fig1 = plot_sfs(sfs.get_metric_dict(), kind='std_dev')\n",
    "plt.title('Sequential Forward Selection (w. StdErr)')\n",
    "plt.grid()\n",
    "plt.show()"
   ]
  },
  {
   "cell_type": "markdown",
   "id": "020357e7",
   "metadata": {},
   "source": [
    "## Backward Elimination"
   ]
  },
  {
   "cell_type": "code",
   "execution_count": null,
   "id": "b451e8f9",
   "metadata": {},
   "outputs": [],
   "source": [
    "sbs = SFS(logreg,\n",
    "         k_features=(1,39),\n",
    "         forward=False,\n",
    "         floating=False,\n",
    "         cv=0)\n",
    "sbs.fit(X_train, y_train)\n",
    "sbs.k_feature_names_"
   ]
  },
  {
   "cell_type": "code",
   "execution_count": null,
   "id": "4130777d",
   "metadata": {},
   "outputs": [],
   "source": [
    "from mlxtend.plotting import plot_sequential_feature_selection as plot_sfs\n",
    "import matplotlib.pyplot as plt\n",
    "fig1 = plot_sfs(sbs.get_metric_dict(), kind='std_dev')\n",
    "plt.title('Sequential Backward Elimination (w. StdErr)')\n",
    "plt.grid()\n",
    "plt.show()"
   ]
  },
  {
   "cell_type": "markdown",
   "id": "71fe0d09",
   "metadata": {},
   "source": [
    "## Both"
   ]
  },
  {
   "cell_type": "code",
   "execution_count": null,
   "id": "3dcf51d7",
   "metadata": {},
   "outputs": [],
   "source": [
    "sffs = SFS(logreg,\n",
    "         k_features=(1,39),\n",
    "         forward=True,\n",
    "         floating=True,\n",
    "         cv=0)\n",
    "sffs.fit(X_train, y_train)\n",
    "sffs.k_feature_names_"
   ]
  },
  {
   "cell_type": "markdown",
   "id": "944c3278",
   "metadata": {},
   "source": [
    "## RFE"
   ]
  },
  {
   "cell_type": "code",
   "execution_count": null,
   "id": "ccb4f5f9",
   "metadata": {},
   "outputs": [],
   "source": [
    "from sklearn.feature_selection import RFE\n",
    "rfe = RFE(logreg, 15)"
   ]
  },
  {
   "cell_type": "code",
   "execution_count": null,
   "id": "199a41db",
   "metadata": {},
   "outputs": [],
   "source": [
    "X_rfe = rfe.fit_transform(X_train,y_train)"
   ]
  },
  {
   "cell_type": "code",
   "execution_count": null,
   "id": "85123df6",
   "metadata": {},
   "outputs": [],
   "source": [
    "logreg.fit(X_rfe,y_train)\n",
    "print(rfe.support_)\n",
    "print(rfe.ranking_)"
   ]
  },
  {
   "cell_type": "code",
   "execution_count": null,
   "id": "d67b5cfd",
   "metadata": {},
   "outputs": [],
   "source": [
    "#no of features\n",
    "nof_list=np.arange(1,35)            \n",
    "high_score=0\n",
    "#Variable to store the optimum features\n",
    "nof=0           \n",
    "score_list =[]\n",
    "for n in range(len(nof_list)):\n",
    "    X_train_RFE, X_test_RFE, y_train_RFE, y_test_RFE = train_test_split(X,y, test_size = 0.3, random_state = 0)\n",
    "    logreg = LogisticRegression()\n",
    "    rfe = RFE(logreg,nof_list[n])\n",
    "    X_train_rfe = rfe.fit_transform(X_train_RFE,y_train_RFE)\n",
    "    X_test_rfe = rfe.transform(X_test_RFE)\n",
    "    logreg.fit(X_train_rfe,y_train_RFE)\n",
    "    score = logreg.score(X_test_rfe,y_test_RFE)\n",
    "    score_list.append(score)\n",
    "    if(score>high_score):\n",
    "        high_score = score\n",
    "        nof = nof_list[n]\n",
    "print(\"Optimum number of features: %d\" %nof)\n",
    "print(\"Score with %d features: %f\" % (nof, high_score))"
   ]
  },
  {
   "cell_type": "code",
   "execution_count": null,
   "id": "1d378985",
   "metadata": {},
   "outputs": [],
   "source": [
    "cols = list(X_train.columns)\n",
    "#Initializing RFE model\n",
    "rfe = RFE(logreg, 34)             \n",
    "#Transforming data using RFE\n",
    "X_rfe = rfe.fit_transform(X_train_RFE,y_train_RFE)  \n",
    "#Fitting the data to model\n",
    "logreg.fit(X_rfe,y_train_RFE)              \n",
    "temp = pd.Series(rfe.support_,index = cols)\n",
    "selected_features_rfe = temp[temp==True].index\n",
    "print(selected_features_rfe)"
   ]
  },
  {
   "cell_type": "code",
   "execution_count": null,
   "id": "5cc18336",
   "metadata": {},
   "outputs": [],
   "source": [
    "RFE_X = X[['DistanceFromHome', 'EnvironmentSatisfaction', 'JobInvolvement',\n",
    "       'JobSatisfaction', 'MonthlyIncome', 'NumCompaniesWorked',\n",
    "       'PercentSalaryHike', 'RelationshipSatisfaction', 'StockOptionLevel',\n",
    "       'TotalWorkingYears', 'TrainingTimesLastYear', 'YearsAtCompany',\n",
    "       'YearsInCurrentRole', 'YearsSinceLastPromotion', 'YearsWithCurrManager',\n",
    "       'BusinessTravel_Travel_Frequently', 'BusinessTravel_Travel_Rarely',\n",
    "       'Department_Research & Development', 'Department_Sales',\n",
    "       'EducationField_Life Sciences', 'EducationField_Marketing',\n",
    "       'EducationField_Medical', 'EducationField_Other',\n",
    "       'EducationField_Technical Degree', 'JobRole_Human Resources',\n",
    "       'JobRole_Laboratory Technician', 'JobRole_Manager',\n",
    "       'JobRole_Manufacturing Director', 'JobRole_Research Director',\n",
    "       'JobRole_Research Scientist', 'JobRole_Sales Executive',\n",
    "       'JobRole_Sales Representative', 'MaritalStatus_Married',\n",
    "       'OverTime_Yes']]"
   ]
  },
  {
   "cell_type": "code",
   "execution_count": null,
   "id": "e31d86f1",
   "metadata": {},
   "outputs": [],
   "source": [
    "X_train_RFE, X_test_RFE, y_train_RFE, y_test_RFE = train_test_split(RFE_X, y, test_size=0.3, random_state=0)"
   ]
  },
  {
   "cell_type": "code",
   "execution_count": null,
   "id": "cd256f42",
   "metadata": {},
   "outputs": [],
   "source": [
    "logreg = LogisticRegression()\n",
    "logreg.fit(X_train_RFE, y_train_RFE)"
   ]
  },
  {
   "cell_type": "code",
   "execution_count": null,
   "id": "7f55f254",
   "metadata": {},
   "outputs": [],
   "source": [
    "from sklearn.metrics import confusion_matrix\n",
    "predictions_RFE = logreg.predict(X_test_RFE)\n",
    "print(mean_absolute_error(y_test_RFE, predictions_RFE))\n",
    "confusion_matrix_RFE = confusion_matrix(y_test_RFE, predictions_RFE)\n",
    "print(confusion_matrix_RFE)\n",
    "y_train_pred_RFE = logreg.predict(X_train_RFE)\n",
    "print(\"Training accuracy(in %):\", metrics.accuracy_score(y_train_RFE, y_train_pred)*100)\n",
    "y_pred_RFE = logreg.predict(X_test_RFE)\n",
    "accuracy_RFE = metrics.accuracy_score(y_pred_RFE,y_test_RFE)\n",
    "print('Testing Accuracy(in %):',accuracy_RFE*100)\n",
    "print(metrics.classification_report(y_test_RFE,y_pred_RFE))"
   ]
  },
  {
   "cell_type": "code",
   "execution_count": null,
   "id": "21a8f5c8",
   "metadata": {},
   "outputs": [],
   "source": [
    "print(metrics.classification_report(y_test_RFE,y_pred_RFE))"
   ]
  },
  {
   "cell_type": "code",
   "execution_count": null,
   "id": "a466162a",
   "metadata": {},
   "outputs": [],
   "source": [
    "probs = logreg.predict_proba(X_test_RFE)\n",
    "prob_positive_RFE = probs[:,1]\n",
    "fpr_RFE, tpr_RFE, threshold_RFE = metrics.roc_curve(y_test_RFE, prob_positive_RFE)\n",
    "roc_auc_FRFE_RFE = metrics.auc(fpr_RFE, tpr_RFE)\n",
    "print('Area under the curve:',roc_auc_FRFE_RFE)"
   ]
  },
  {
   "cell_type": "code",
   "execution_count": null,
   "id": "20d2a983",
   "metadata": {},
   "outputs": [],
   "source": [
    "FS_X = X[['DistanceFromHome',\n",
    " 'Education',\n",
    " 'EnvironmentSatisfaction',\n",
    " 'JobInvolvement',\n",
    " 'JobSatisfaction',\n",
    " 'MonthlyIncome',\n",
    " 'PercentSalaryHike',\n",
    " 'StockOptionLevel',\n",
    " 'TotalWorkingYears',\n",
    " 'YearsInCurrentRole',\n",
    " 'YearsWithCurrManager',\n",
    " 'BusinessTravel_Travel_Frequently',\n",
    " 'Department_Research & Development',\n",
    " 'Department_Sales',\n",
    " 'EducationField_Life Sciences',\n",
    " 'EducationField_Marketing',\n",
    " 'EducationField_Medical',\n",
    " 'EducationField_Other',\n",
    " 'EducationField_Technical Degree',\n",
    " 'JobRole_Human Resources',\n",
    " 'JobRole_Laboratory Technician',\n",
    " 'JobRole_Manager',\n",
    " 'JobRole_Manufacturing Director',\n",
    " 'JobRole_Research Director',\n",
    " 'JobRole_Research Scientist',\n",
    " 'JobRole_Sales Executive',\n",
    " 'JobRole_Sales Representative',\n",
    " 'MaritalStatus_Married',\n",
    " 'MaritalStatus_Single',\n",
    " 'OverTime_Yes']]"
   ]
  },
  {
   "cell_type": "code",
   "execution_count": null,
   "id": "fe6f55ae",
   "metadata": {},
   "outputs": [],
   "source": [
    "from sklearn.metrics import confusion_matrix\n",
    "FS_X.shape\n",
    "X_train_FS, X_test_FS, y_train_FS, y_test_FS = train_test_split(FS_X, y, test_size=0.3, random_state=0)\n",
    "logreg = LogisticRegression()\n",
    "logreg.fit(X_train_FS, y_train_FS)\n",
    "predictions_FS = logreg.predict(X_test_FS)\n",
    "print(mean_absolute_error(y_test_FS, predictions_FS))\n",
    "confusion_matrix_FS = confusion_matrix(y_test_FS, predictions_FS)\n",
    "print(confusion_matrix_FS)\n",
    "y_train_pred_FS = logreg.predict(X_train_FS)\n",
    "print(\"Training accuracy(in %):\", metrics.accuracy_score(y_train_FS, y_train_pred_FS)*100)\n",
    "y_pred_FS = logreg.predict(X_test_FS)\n",
    "accuracy_FS = metrics.accuracy_score(y_pred_FS,y_test_FS)\n",
    "print('Testing Accuracy(in %):',accuracy_FS*100)\n",
    "print(metrics.classification_report(y_test_FS,y_pred_FS))"
   ]
  },
  {
   "cell_type": "code",
   "execution_count": null,
   "id": "1347b8a3",
   "metadata": {},
   "outputs": [],
   "source": [
    "BE_X = X[['DistanceFromHome',\n",
    " 'Education',\n",
    " 'EnvironmentSatisfaction',\n",
    " 'JobInvolvement',\n",
    " 'JobSatisfaction',\n",
    " 'PercentSalaryHike',\n",
    " 'RelationshipSatisfaction',\n",
    " 'StockOptionLevel',\n",
    " 'TotalWorkingYears',\n",
    " 'TrainingTimesLastYear',\n",
    " 'YearsAtCompany',\n",
    " 'YearsInCurrentRole',\n",
    " 'YearsSinceLastPromotion',\n",
    " 'YearsWithCurrManager',\n",
    " 'BusinessTravel_Travel_Frequently',\n",
    " 'BusinessTravel_Travel_Rarely',\n",
    " 'Department_Research & Development',\n",
    " 'EducationField_Life Sciences',\n",
    " 'EducationField_Marketing',\n",
    " 'EducationField_Medical',\n",
    " 'EducationField_Other',\n",
    " 'EducationField_Technical Degree',\n",
    " 'JobRole_Human Resources',\n",
    " 'JobRole_Manager',\n",
    " 'JobRole_Manufacturing Director',\n",
    " 'JobRole_Research Director',\n",
    " 'JobRole_Research Scientist',\n",
    " 'JobRole_Sales Executive',\n",
    " 'JobRole_Sales Representative',\n",
    " 'MaritalStatus_Married',\n",
    " 'MaritalStatus_Single',\n",
    " 'OverTime_Yes']]"
   ]
  },
  {
   "cell_type": "code",
   "execution_count": null,
   "id": "3e8dc638",
   "metadata": {},
   "outputs": [],
   "source": [
    "from sklearn.metrics import confusion_matrix\n",
    "BE_X.shape\n",
    "X_train_BE, X_test_BE, y_train_BE, y_test_BE = train_test_split(BE_X, y, test_size=0.3, random_state=0)\n",
    "logreg = LogisticRegression()\n",
    "logreg.fit(X_train_BE, y_train_BE)\n",
    "predictions_BE = logreg.predict(X_test_BE)\n",
    "print(mean_absolute_error(y_test_BE, predictions_BE))\n",
    "confusion_matrix_BE = confusion_matrix(y_test_BE, predictions_BE)\n",
    "print(confusion_matrix_BE)\n",
    "y_train_pred_BE = logreg.predict(X_train_BE)\n",
    "print(\"Training accuracy(in %):\", metrics.accuracy_score(y_train_BE, y_train_pred_BE)*100)\n",
    "y_pred_BE = logreg.predict(X_test_BE)\n",
    "accuracy_BE = metrics.accuracy_score(y_pred_BE,y_test_BE)\n",
    "print('Testing Accuracy(in %):',accuracy_BE*100)\n",
    "print(metrics.classification_report(y_test_BE,y_pred_BE))"
   ]
  },
  {
   "cell_type": "code",
   "execution_count": null,
   "id": "13a3ec47",
   "metadata": {},
   "outputs": [],
   "source": [
    "Both_X = X[['DistanceFromHome',\n",
    " 'Education',\n",
    " 'EnvironmentSatisfaction',\n",
    " 'JobSatisfaction',\n",
    " 'MonthlyIncome',\n",
    " 'PerformanceRating',\n",
    " 'RelationshipSatisfaction',\n",
    " 'StockOptionLevel',\n",
    " 'TotalWorkingYears',\n",
    " 'WorkLifeBalance',\n",
    " 'YearsInCurrentRole',\n",
    " 'YearsWithCurrManager',\n",
    " 'Department_Research & Development',\n",
    " 'EducationField_Life Sciences',\n",
    " 'EducationField_Marketing',\n",
    " 'EducationField_Medical',\n",
    " 'EducationField_Other',\n",
    " 'EducationField_Technical Degree',\n",
    " 'JobRole_Human Resources',\n",
    " 'JobRole_Manager',\n",
    " 'JobRole_Manufacturing Director',\n",
    " 'JobRole_Research Director',\n",
    " 'JobRole_Research Scientist',\n",
    " 'JobRole_Sales Executive',\n",
    " 'JobRole_Sales Representative',\n",
    " 'MaritalStatus_Married',\n",
    " 'OverTime_Yes']]"
   ]
  },
  {
   "cell_type": "code",
   "execution_count": null,
   "id": "00ee65d7",
   "metadata": {},
   "outputs": [],
   "source": [
    "from sklearn.metrics import confusion_matrix\n",
    "Both_X.shape\n",
    "X_train_BOTH, X_test_BOTH, y_train_BOTH, y_test_BOTH = train_test_split(Both_X, y, test_size=0.3, random_state=0)\n",
    "logreg = LogisticRegression()\n",
    "logreg.fit(X_train_BOTH, y_train_BOTH)\n",
    "predictions_BOTH = logreg.predict(X_test_BOTH)\n",
    "print(mean_absolute_error(y_test_BOTH, predictions_BOTH))\n",
    "confusion_matrix_BOTH = confusion_matrix(y_test_BOTH, predictions_BOTH)\n",
    "print(confusion_matrix_BOTH)\n",
    "y_train_pred_BOTH = logreg.predict(X_train_BOTH)\n",
    "print(\"Training accuracy(in %):\", metrics.accuracy_score(y_train_BOTH, y_train_pred_BOTH)*100)\n",
    "y_pred_BOTH = logreg.predict(X_test_BOTH)\n",
    "accuracy_BOTH = metrics.accuracy_score(y_pred_BOTH,y_test_BOTH)\n",
    "print('Testing Accuracy(in %):',accuracy_BOTH*100)\n",
    "print(metrics.classification_report(y_test_BOTH,y_pred_BOTH))"
   ]
  },
  {
   "cell_type": "markdown",
   "id": "f7961722",
   "metadata": {},
   "source": [
    "## Random Forest"
   ]
  },
  {
   "cell_type": "code",
   "execution_count": null,
   "id": "0b32b245",
   "metadata": {},
   "outputs": [],
   "source": [
    "from sklearn.ensemble import BaggingClassifier\n",
    "from sklearn.ensemble import RandomForestClassifier"
   ]
  },
  {
   "cell_type": "code",
   "execution_count": null,
   "id": "3c6227ef",
   "metadata": {},
   "outputs": [],
   "source": [
    "data1 = data.drop(['Attrition','EmployeeNumber','Over18','EmployeeCount','StandardHours','DailyRate','HourlyRate','MonthlyRate'], axis=1 )"
   ]
  },
  {
   "cell_type": "code",
   "execution_count": null,
   "id": "76bda6ea",
   "metadata": {},
   "outputs": [],
   "source": [
    "data_new_dummies1 = pd.get_dummies(data1, drop_first=True)\n",
    "data_new_dummies1.head()"
   ]
  },
  {
   "cell_type": "code",
   "execution_count": null,
   "id": "be00580a",
   "metadata": {},
   "outputs": [],
   "source": [
    "scaler= StandardScaler()\n",
    "data_scaled1 = pd.DataFrame(scaler.fit_transform(data_new_dummies1[['Age','JobLevel','DistanceFromHome','Education','EnvironmentSatisfaction','JobInvolvement','JobSatisfaction','MonthlyIncome','NumCompaniesWorked','PercentSalaryHike','PerformanceRating','RelationshipSatisfaction','StockOptionLevel','TotalWorkingYears','TrainingTimesLastYear','WorkLifeBalance','YearsAtCompany','YearsInCurrentRole','YearsSinceLastPromotion','YearsWithCurrManager']]))    ##This means that you're transforming your data so that\n"
   ]
  },
  {
   "cell_type": "code",
   "execution_count": null,
   "id": "03472708",
   "metadata": {},
   "outputs": [],
   "source": [
    "data_scaled1.columns = ['Age','JobLevel','DistanceFromHome','Education','EnvironmentSatisfaction','JobInvolvement','JobSatisfaction','MonthlyIncome','NumCompaniesWorked','PercentSalaryHike','PerformanceRating','RelationshipSatisfaction','StockOptionLevel','TotalWorkingYears','TrainingTimesLastYear','WorkLifeBalance','YearsAtCompany','YearsInCurrentRole','YearsSinceLastPromotion','YearsWithCurrManager']\n",
    "data_scaled1[['BusinessTravel_Travel_Frequently','BusinessTravel_Travel_Rarely','Department_Research & Development','Department_Sales','EducationField_Life Sciences','EducationField_Marketing','EducationField_Medical','EducationField_Other','EducationField_Technical Degree','Gender_Male','JobRole_Human Resources','JobRole_Laboratory Technician','JobRole_Manager','JobRole_Manufacturing Director','JobRole_Research Director','JobRole_Research Scientist','JobRole_Sales Executive','JobRole_Sales Representative','MaritalStatus_Married','MaritalStatus_Single','OverTime_Yes']] = data_new_dummies[['BusinessTravel_Travel_Frequently','BusinessTravel_Travel_Rarely','Department_Research & Development','Department_Sales','EducationField_Life Sciences','EducationField_Marketing','EducationField_Medical','EducationField_Other','EducationField_Technical Degree','Gender_Male','JobRole_Human Resources','JobRole_Laboratory Technician','JobRole_Manager','JobRole_Manufacturing Director','JobRole_Research Director','JobRole_Research Scientist','JobRole_Sales Executive','JobRole_Sales Representative','MaritalStatus_Married','MaritalStatus_Single','OverTime_Yes']]\n",
    "data_scaled1.head()\n",
    "data['Attrition'] = data['Attrition'].replace('Yes',1)\n",
    "data['Attrition'] = data['Attrition'].replace('No',0)\n",
    "data_scaled1['Attrition'] = data['Attrition']\n",
    "data_scaled1"
   ]
  },
  {
   "cell_type": "code",
   "execution_count": null,
   "id": "7ce8dd2e",
   "metadata": {},
   "outputs": [],
   "source": [
    "from imblearn.over_sampling import SMOTE\n",
    "cols = list(data_scaled1.columns)\n",
    "cols.remove(\"Attrition\")\n",
    "sampled1,target1 = SMOTE().fit_resample(data_scaled1[cols],data_scaled1[\"Attrition\"])"
   ]
  },
  {
   "cell_type": "code",
   "execution_count": null,
   "id": "f34256c0",
   "metadata": {},
   "outputs": [],
   "source": [
    "X1 = sampled1\n",
    "y1 = target1"
   ]
  },
  {
   "cell_type": "code",
   "execution_count": null,
   "id": "b59f0dbb",
   "metadata": {},
   "outputs": [],
   "source": [
    "X_train_clf, X_test_clf, y_train_clf, y_test_clf = train_test_split(X1, y1, test_size=0.3, random_state=0)\n",
    "clf=RandomForestClassifier(oob_score=True,n_jobs=-1,n_estimators=20,random_state=0)\n",
    "clf.fit(X_train_clf,y_train_clf)"
   ]
  },
  {
   "cell_type": "code",
   "execution_count": null,
   "id": "bd14be8a",
   "metadata": {},
   "outputs": [],
   "source": [
    "clf.oob_score_"
   ]
  },
  {
   "cell_type": "code",
   "execution_count": null,
   "id": "a02e2ade",
   "metadata": {},
   "outputs": [],
   "source": [
    "clf.score(X_test_clf,y_test_clf)"
   ]
  },
  {
   "cell_type": "code",
   "execution_count": null,
   "id": "8da72b57",
   "metadata": {},
   "outputs": [],
   "source": [
    "y_pred_clf = clf.predict(X_test_clf)\n",
    "print(metrics.classification_report(y_test_clf,y_pred_clf))"
   ]
  },
  {
   "cell_type": "code",
   "execution_count": null,
   "id": "22f7037a",
   "metadata": {},
   "outputs": [],
   "source": [
    "from sklearn.model_selection import GridSearchCV\n",
    "mod=GridSearchCV(clf,param_grid={'n_estimators':[950,955,960,965,970,975,980,985,990,995,1000]})\n",
    "mod.fit(X_train_clf,y_train_clf) #FIRST we got 980 as best"
   ]
  },
  {
   "cell_type": "code",
   "execution_count": null,
   "id": "fd20439d",
   "metadata": {},
   "outputs": [],
   "source": [
    "mod.best_estimator_"
   ]
  },
  {
   "cell_type": "code",
   "execution_count": null,
   "id": "ad4ad1c0",
   "metadata": {},
   "outputs": [],
   "source": [
    "clf=RandomForestClassifier(n_estimators=980,oob_score=True,n_jobs=-1,random_state=0)"
   ]
  },
  {
   "cell_type": "code",
   "execution_count": null,
   "id": "e13ab9fe",
   "metadata": {},
   "outputs": [],
   "source": [
    "clf.fit(X_train_clf,y_train_clf)"
   ]
  },
  {
   "cell_type": "code",
   "execution_count": null,
   "id": "7d1d4203",
   "metadata": {},
   "outputs": [],
   "source": [
    "clf.oob_score_"
   ]
  },
  {
   "cell_type": "code",
   "execution_count": null,
   "id": "cae2011f",
   "metadata": {},
   "outputs": [],
   "source": [
    "clf.score(X_test_clf,y_test_clf)"
   ]
  },
  {
   "cell_type": "code",
   "execution_count": null,
   "id": "9c29de52",
   "metadata": {},
   "outputs": [],
   "source": [
    "y_pred_clf = clf.predict(X_test_clf)\n",
    "print(metrics.classification_report(y_test_clf,y_pred_clf))"
   ]
  },
  {
   "cell_type": "code",
   "execution_count": null,
   "id": "8e484bec",
   "metadata": {},
   "outputs": [],
   "source": [
    "probs = clf.predict_proba(X_test_clf)\n",
    "prob_positive = probs[:,1]\n",
    "fpr, tpr, threshold = metrics.roc_curve(y_test_clf, prob_positive)\n",
    "roc_auc = metrics.auc(fpr, tpr)\n",
    "print('Area under the curve:',roc_auc)\n",
    "plt.title('Receiver Operating Characteristic')\n",
    "plt.plot(fpr, tpr, 'orange', label = 'AUC = %0.2f' % roc_auc)\n",
    "plt.legend(loc = 'lower right')\n",
    "plt.plot([0, 1], [0, 1], color='darkblue', linestyle='--')\n",
    "plt.ylabel('True Positive Rate')\n",
    "plt.xlabel('False Positive Rate')\n",
    "plt.show()"
   ]
  },
  {
   "cell_type": "code",
   "execution_count": null,
   "id": "dcc25124",
   "metadata": {},
   "outputs": [],
   "source": [
    "predictions_clf = clf.predict(X_test_clf)\n",
    "print(mean_absolute_error(y_test_clf, predictions_clf))"
   ]
  },
  {
   "cell_type": "code",
   "execution_count": null,
   "id": "f59894d8",
   "metadata": {},
   "outputs": [],
   "source": [
    "clf.feature_importances_"
   ]
  },
  {
   "cell_type": "code",
   "execution_count": null,
   "id": "43dc1276",
   "metadata": {},
   "outputs": [],
   "source": [
    "imp_feat_clf=pd.Series(clf.feature_importances_,index=X1.columns.tolist())"
   ]
  },
  {
   "cell_type": "code",
   "execution_count": null,
   "id": "8ef72087",
   "metadata": {},
   "outputs": [],
   "source": [
    "imp_feat_clf.sort_values(ascending=False)"
   ]
  },
  {
   "cell_type": "code",
   "execution_count": null,
   "id": "d47a7459",
   "metadata": {},
   "outputs": [],
   "source": [
    "imp_feat_clf.sort_values(ascending=False).plot(kind='bar')"
   ]
  },
  {
   "cell_type": "code",
   "execution_count": null,
   "id": "1db6f3e2",
   "metadata": {},
   "outputs": [],
   "source": [
    "from sklearn.metrics import ConfusionMatrixDisplay\n",
    "cm = confusion_matrix(y_test_clf,clf.predict(X_test_clf))\n",
    "classes = [\"0\",\"1\"]\n",
    "disp = ConfusionMatrixDisplay(confusion_matrix=cm,\n",
    "                              display_labels=classes)\n",
    "fig, ax = plt.subplots(figsize=(10,10))\n",
    "plt.title(\"Confusion Matrix\")\n",
    "disp = disp.plot(ax=ax)\n",
    "plt.grid(False)\n",
    "plt.show()"
   ]
  },
  {
   "cell_type": "markdown",
   "id": "e3d363c3",
   "metadata": {},
   "source": [
    "## XG Boost"
   ]
  },
  {
   "cell_type": "code",
   "execution_count": null,
   "id": "9051d7fb",
   "metadata": {},
   "outputs": [],
   "source": [
    "import xgboost\n",
    "from xgboost import XGBClassifier"
   ]
  },
  {
   "cell_type": "code",
   "execution_count": null,
   "id": "549d07c9",
   "metadata": {},
   "outputs": [],
   "source": [
    "XGB= xgboost.XGBClassifier(n_estimators=20,random_state=0)"
   ]
  },
  {
   "cell_type": "code",
   "execution_count": null,
   "id": "86853a41",
   "metadata": {},
   "outputs": [],
   "source": [
    "X_train_xgb, X_test_xgb, y_train_xgb, y_test_xgb = train_test_split(X1, y1, test_size=0.3, random_state=0)"
   ]
  },
  {
   "cell_type": "code",
   "execution_count": null,
   "id": "e9ffc268",
   "metadata": {},
   "outputs": [],
   "source": [
    "XGB.fit(X_train_xgb,y_train_xgb)"
   ]
  },
  {
   "cell_type": "code",
   "execution_count": null,
   "id": "0cd8fb2e",
   "metadata": {},
   "outputs": [],
   "source": [
    "XGB.score(X_test_xgb,y_test_xgb)"
   ]
  },
  {
   "cell_type": "code",
   "execution_count": null,
   "id": "deecd60c",
   "metadata": {},
   "outputs": [],
   "source": [
    "from sklearn.model_selection import GridSearchCV #done from 10 - 1000 with 10 jump\n",
    "XG=GridSearchCV(XGB,param_grid={'n_estimators':[60,65,70,75,80,85,90,95,100,105,110]})\n",
    "XG.fit(X_train_xgb,y_train_xgb)#first showed 100 as highest"
   ]
  },
  {
   "cell_type": "code",
   "execution_count": null,
   "id": "8502b392",
   "metadata": {},
   "outputs": [],
   "source": [
    "XG.best_estimator_"
   ]
  },
  {
   "cell_type": "code",
   "execution_count": null,
   "id": "83d88232",
   "metadata": {},
   "outputs": [],
   "source": [
    "XGB= xgboost.XGBClassifier(n_estimators=110,random_state=0)"
   ]
  },
  {
   "cell_type": "code",
   "execution_count": null,
   "id": "99ab2442",
   "metadata": {},
   "outputs": [],
   "source": [
    "XGB.fit(X_train_xgb,y_train_xgb)"
   ]
  },
  {
   "cell_type": "code",
   "execution_count": null,
   "id": "bd1b0314",
   "metadata": {},
   "outputs": [],
   "source": [
    "XGB.score(X_test_xgb,y_test_xgb)"
   ]
  },
  {
   "cell_type": "code",
   "execution_count": null,
   "id": "208baaf2",
   "metadata": {},
   "outputs": [],
   "source": [
    "y_pred_xgb = XGB.predict(X_test_xgb)\n",
    "print(metrics.classification_report(y_test_xgb,y_pred_xgb))"
   ]
  },
  {
   "cell_type": "code",
   "execution_count": null,
   "id": "d9d9b1b3",
   "metadata": {},
   "outputs": [],
   "source": [
    "probs = XGB.predict_proba(X_test_xgb)\n",
    "prob_positive = probs[:,1]\n",
    "fpr, tpr, threshold = metrics.roc_curve(y_test_xgb, prob_positive)\n",
    "roc_auc = metrics.auc(fpr, tpr)\n",
    "print('Area under the curve:',roc_auc)\n",
    "plt.title('Receiver Operating Characteristic')\n",
    "plt.plot(fpr, tpr, 'orange', label = 'AUC = %0.2f' % roc_auc)\n",
    "plt.legend(loc = 'lower right')\n",
    "plt.plot([0, 1], [0, 1], color='darkblue', linestyle='--')\n",
    "plt.ylabel('True Positive Rate')\n",
    "plt.xlabel('False Positive Rate')\n",
    "plt.show()"
   ]
  },
  {
   "cell_type": "code",
   "execution_count": null,
   "id": "19350f4c",
   "metadata": {},
   "outputs": [],
   "source": [
    "predictions_xgb = XGB.predict(X_test_xgb)\n",
    "print(mean_absolute_error(y_test_xgb, predictions_xgb))"
   ]
  },
  {
   "cell_type": "code",
   "execution_count": null,
   "id": "33ecd8b2",
   "metadata": {},
   "outputs": [],
   "source": [
    "XGB.feature_importances_"
   ]
  },
  {
   "cell_type": "code",
   "execution_count": null,
   "id": "d08ffb4a",
   "metadata": {},
   "outputs": [],
   "source": [
    "imp_feat_xgb=pd.Series(XGB.feature_importances_,index=X1.columns.tolist())\n",
    "imp_feat_xgb.sort_values(ascending=False)"
   ]
  },
  {
   "cell_type": "code",
   "execution_count": null,
   "id": "8cb340d6",
   "metadata": {},
   "outputs": [],
   "source": [
    "imp_feat_xgb.sort_values(ascending=False).plot(kind='bar')"
   ]
  },
  {
   "cell_type": "code",
   "execution_count": null,
   "id": "c5026af2",
   "metadata": {},
   "outputs": [],
   "source": [
    "from sklearn.metrics import ConfusionMatrixDisplay\n",
    "cm = confusion_matrix(y_test_xgb,XGB.predict(X_test_xgb))\n",
    "classes = [\"0\",\"1\"]\n",
    "disp = ConfusionMatrixDisplay(confusion_matrix=cm,\n",
    "                              display_labels=classes)\n",
    "fig, ax = plt.subplots(figsize=(10,10))\n",
    "plt.title(\"Confusion Matrix\")\n",
    "disp = disp.plot(ax=ax)\n",
    "plt.grid(False)\n",
    "plt.show()"
   ]
  },
  {
   "cell_type": "markdown",
   "id": "689a9c23",
   "metadata": {},
   "source": [
    "## We are choosing Random Forest as the final model because of its accuracy and Recall Value high when compared to other models"
   ]
  },
  {
   "cell_type": "markdown",
   "id": "0bde5dc8",
   "metadata": {},
   "source": [
    "### The top 5 features that influence attrition are as follows"
   ]
  },
  {
   "cell_type": "code",
   "execution_count": null,
   "id": "8d470d2a",
   "metadata": {},
   "outputs": [],
   "source": [
    "imp_feat_clf.sort_values(ascending=False).head()"
   ]
  },
  {
   "cell_type": "code",
   "execution_count": null,
   "id": "1d846579",
   "metadata": {},
   "outputs": [],
   "source": [
    "y_pred_clf = clf.predict(X_test_clf)\n",
    "y_pred_clf = pd.Series(y_pred_clf)\n",
    "y_pred_clf.to_csv('submission.csv',index=False)"
   ]
  },
  {
   "cell_type": "code",
   "execution_count": null,
   "id": "65824cf3",
   "metadata": {},
   "outputs": [],
   "source": []
  }
 ],
 "metadata": {
  "kernelspec": {
   "display_name": "Python 3 (ipykernel)",
   "language": "python",
   "name": "python3"
  },
  "language_info": {
   "codemirror_mode": {
    "name": "ipython",
    "version": 3
   },
   "file_extension": ".py",
   "mimetype": "text/x-python",
   "name": "python",
   "nbconvert_exporter": "python",
   "pygments_lexer": "ipython3",
   "version": "3.9.12"
  }
 },
 "nbformat": 4,
 "nbformat_minor": 5
}
